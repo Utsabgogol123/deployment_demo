{
 "cells": [
  {
   "cell_type": "code",
   "execution_count": null,
   "metadata": {},
   "outputs": [],
   "source": [
    "Create GitHub Repository (optional)\n",
    "Create and Pickle a Model Using Titanic Data\n",
    "Create Flask App\n",
    "Test Flask App Locally (optional)\n",
    "Deploy to Heroku\n",
    "Test Working App"
   ]
  },
  {
   "cell_type": "code",
   "execution_count": 7,
   "metadata": {},
   "outputs": [
    {
     "data": {
      "text/plain": [
       "0.9174107142857143"
      ]
     },
     "execution_count": 7,
     "metadata": {},
     "output_type": "execute_result"
    }
   ],
   "source": [
    "import pandas as pd\n",
    "import numpy as np\n",
    "from sklearn.datasets import load_breast_cancer\n",
    "bc_data = load_breast_cancer()\n",
    "indep_var_df = pd.DataFrame(bc_data['data'],columns=bc_data['feature_names'])\n",
    "dep_var_df = pd.DataFrame(bc_data['target'],columns =['cancer_y_n'])\n",
    "full_data_df = pd.concat([indep_var_df,dep_var_df],axis=1)\n",
    "\n",
    "\n",
    "X = indep_var_df[['mean radius','mean concave points','worst concavity']]\n",
    "Y = full_data_df['cancer_y_n']\n",
    "\n",
    "from sklearn.model_selection import train_test_split\n",
    "X_train,X_test,Y_train,Y_test = train_test_split(X,Y,test_size = 121)\n",
    "\n",
    "from sklearn.tree import DecisionTreeClassifier\n",
    "dt = DecisionTreeClassifier(criterion='entropy',min_samples_leaf=30)\n",
    "dt.fit(X_train,Y_train)\n",
    "dt.score(X_train,Y_train)"
   ]
  },
  {
   "cell_type": "code",
   "execution_count": 23,
   "metadata": {},
   "outputs": [
    {
     "data": {
      "text/plain": [
       "479    0\n",
       "336    1\n",
       "382    1\n",
       "221    1\n",
       "54     0\n",
       "Name: cancer_y_n, dtype: int32"
      ]
     },
     "execution_count": 23,
     "metadata": {},
     "output_type": "execute_result"
    }
   ],
   "source": [
    "Y_train.head()"
   ]
  },
  {
   "cell_type": "code",
   "execution_count": 8,
   "metadata": {},
   "outputs": [],
   "source": [
    "import pickle\n",
    "pickle.dump(dt, open('dtmodel2.pkl', 'wb'))"
   ]
  },
  {
   "cell_type": "code",
   "execution_count": 9,
   "metadata": {},
   "outputs": [
    {
     "data": {
      "text/html": [
       "<div>\n",
       "<style scoped>\n",
       "    .dataframe tbody tr th:only-of-type {\n",
       "        vertical-align: middle;\n",
       "    }\n",
       "\n",
       "    .dataframe tbody tr th {\n",
       "        vertical-align: top;\n",
       "    }\n",
       "\n",
       "    .dataframe thead th {\n",
       "        text-align: right;\n",
       "    }\n",
       "</style>\n",
       "<table border=\"1\" class=\"dataframe\">\n",
       "  <thead>\n",
       "    <tr style=\"text-align: right;\">\n",
       "      <th></th>\n",
       "      <th>mean radius</th>\n",
       "      <th>mean concave points</th>\n",
       "      <th>worst concavity</th>\n",
       "    </tr>\n",
       "  </thead>\n",
       "  <tbody>\n",
       "    <tr>\n",
       "      <th>479</th>\n",
       "      <td>16.25</td>\n",
       "      <td>0.09194</td>\n",
       "      <td>0.5897</td>\n",
       "    </tr>\n",
       "    <tr>\n",
       "      <th>336</th>\n",
       "      <td>12.99</td>\n",
       "      <td>0.02098</td>\n",
       "      <td>0.1450</td>\n",
       "    </tr>\n",
       "    <tr>\n",
       "      <th>382</th>\n",
       "      <td>12.05</td>\n",
       "      <td>0.02978</td>\n",
       "      <td>0.2912</td>\n",
       "    </tr>\n",
       "    <tr>\n",
       "      <th>221</th>\n",
       "      <td>13.56</td>\n",
       "      <td>0.04451</td>\n",
       "      <td>0.2577</td>\n",
       "    </tr>\n",
       "    <tr>\n",
       "      <th>54</th>\n",
       "      <td>15.10</td>\n",
       "      <td>0.03334</td>\n",
       "      <td>0.2712</td>\n",
       "    </tr>\n",
       "  </tbody>\n",
       "</table>\n",
       "</div>"
      ],
      "text/plain": [
       "     mean radius  mean concave points  worst concavity\n",
       "479        16.25              0.09194           0.5897\n",
       "336        12.99              0.02098           0.1450\n",
       "382        12.05              0.02978           0.2912\n",
       "221        13.56              0.04451           0.2577\n",
       "54         15.10              0.03334           0.2712"
      ]
     },
     "execution_count": 9,
     "metadata": {},
     "output_type": "execute_result"
    }
   ],
   "source": [
    "X_train.head()"
   ]
  },
  {
   "cell_type": "code",
   "execution_count": 24,
   "metadata": {},
   "outputs": [],
   "source": [
    "import json\n",
    "url = 'http://127.0.0.1:5000'\n",
    "# sample data\n",
    "data = {'mean radius': 16.25\n",
    "      , 'mean concave points': 0.09194\n",
    "      , 'worst concavity': 0.5897\n",
    "       }\n",
    "data = json.dumps(data)"
   ]
  },
  {
   "cell_type": "code",
   "execution_count": 25,
   "metadata": {},
   "outputs": [
    {
     "name": "stdout",
     "output_type": "stream",
     "text": [
      "<Response [200]>\n"
     ]
    }
   ],
   "source": [
    "import requests\n",
    "send_request = requests.post(url,data)\n",
    "print(send_request)"
   ]
  },
  {
   "cell_type": "code",
   "execution_count": 26,
   "metadata": {},
   "outputs": [
    {
     "name": "stdout",
     "output_type": "stream",
     "text": [
      "{'results': {'results': 0}}\n"
     ]
    }
   ],
   "source": [
    "print(send_request.json())"
   ]
  },
  {
   "cell_type": "code",
   "execution_count": null,
   "metadata": {},
   "outputs": [],
   "source": []
  }
 ],
 "metadata": {
  "kernelspec": {
   "display_name": "Python 3",
   "language": "python",
   "name": "python3"
  },
  "language_info": {
   "codemirror_mode": {
    "name": "ipython",
    "version": 3
   },
   "file_extension": ".py",
   "mimetype": "text/x-python",
   "name": "python",
   "nbconvert_exporter": "python",
   "pygments_lexer": "ipython3",
   "version": "3.7.1"
  }
 },
 "nbformat": 4,
 "nbformat_minor": 2
}
